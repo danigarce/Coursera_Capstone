{
 "cells": [
  {
   "cell_type": "markdown",
   "metadata": {
    "collapsed": true
   },
   "source": [
    "# Restaurant Business Devlopment in Green Bay, WI, USA\n",
    "### FInal Capstone, IBM Data Science Profession Program, Coursera\n",
    "#### Created by Danielle Garceau, February 2019"
   ]
  },
  {
   "cell_type": "markdown",
   "metadata": {},
   "source": [
    "##### In Green Bay, WI, a restaurant developer is looking to open a new italian restaurant in Green Bay, WI. Where ought the developer open it?\n",
    "\n",
    "Background: Green Bay is the third largest city in Wisconsin. However, its population is less than a fifth of Milwaukee's (the largest) and less than half of Madison (the capital), so the population is more sparse since the city of Green Bay is very spread out. Green Bay is split into two sides by the Fox River out of the Bay of Green Bay, a bay of Lake Michigan. Green Bay West contains large attractions like Lambeau Field (Home of the Green Bay Packers), the Titletown District (new development owned by Lambeau Field for tourism), the Bay Park Square Mall and its surrounding shopping centers, and the Resch Center (a popular venue for large events such as concerts and other sporting events. Green Bay East contains a more traditional downtown located right on the Fox River, including riverside restaurants, museums, historical districts, and small-town-like events such as farmers markets. While many people are brought to the West side due to the attraction of the Packers, it feels less like a city and more like endless rows of options for shopping and eating. The East side tends to see less tourism, but offers a more homely feeling of a traditional and historical downtown.\n",
    "\n",
    "So which side would optimize success of a new italian restaurant?"
   ]
  },
  {
   "cell_type": "markdown",
   "metadata": {},
   "source": [
    "#### Data to be used:\n",
    "Via Foursquare, data will be organized by the frequency of all venues, top venues, restaurants, top restaurants, and italian restaurants in each area according to the zip code they fall under. If the zip code is 54229, 54311, 54302, or 54301 they are located on the West side. If the zip code is 54313. 54155, 54303, or 54304 they are located on the East side. Each different zip code will be extracted from the venue address to be properly grouped into either \"East\" or \"West\". Using the data, I will be able to make an educated and supported recommendation on which area is best suited for a new italian restaurant to thrive based on the venues already located within each side of Green Bay."
   ]
  },
  {
   "cell_type": "code",
   "execution_count": null,
   "metadata": {},
   "outputs": [],
   "source": []
  }
 ],
 "metadata": {
  "kernelspec": {
   "display_name": "Python 3.5",
   "language": "python",
   "name": "python3"
  },
  "language_info": {
   "codemirror_mode": {
    "name": "ipython",
    "version": 3
   },
   "file_extension": ".py",
   "mimetype": "text/x-python",
   "name": "python",
   "nbconvert_exporter": "python",
   "pygments_lexer": "ipython3",
   "version": "3.5.5"
  }
 },
 "nbformat": 4,
 "nbformat_minor": 1
}
